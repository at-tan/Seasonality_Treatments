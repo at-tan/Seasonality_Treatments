{
 "cells": [
  {
   "cell_type": "code",
   "execution_count": 1,
   "id": "c2cf941b",
   "metadata": {},
   "outputs": [],
   "source": [
    "import csv\n",
    "import numpy as np\n",
    "import seaborn as sns\n",
    "import matplotlib.pyplot as plt\n",
    "import pandas as pd\n",
    "\n",
    "plt.style.use('ggplot')\n",
    "%config InlineBackend.figure_format = 'retina'\n",
    "%matplotlib inline"
   ]
  },
  {
   "cell_type": "code",
   "execution_count": 2,
   "id": "8b334c07",
   "metadata": {},
   "outputs": [],
   "source": [
    "from scipy.stats import uniform, randint\n",
    "from sklearn.preprocessing import MinMaxScaler\n",
    "from sklearn.metrics import mean_squared_error, mean_absolute_error\n",
    "from sklearn.model_selection import cross_val_score, RandomizedSearchCV, TimeSeriesSplit"
   ]
  },
  {
   "cell_type": "code",
   "execution_count": 3,
   "id": "3954e512",
   "metadata": {},
   "outputs": [],
   "source": [
    "import xgboost as xgb\n",
    "from sklearn.svm import SVR\n",
    "from sklearn.linear_model import Lasso, Ridge\n",
    "from sklearn.neural_network import MLPRegressor\n",
    "from sklearn.ensemble import RandomForestRegressor"
   ]
  },
  {
   "cell_type": "code",
   "execution_count": 4,
   "id": "756465d8",
   "metadata": {},
   "outputs": [],
   "source": [
    "f = pd.read_csv('C:\\\\beijing_engineered.csv')\n",
    "df = pd.DataFrame(f)"
   ]
  },
  {
   "cell_type": "code",
   "execution_count": 5,
   "id": "23b31078",
   "metadata": {},
   "outputs": [],
   "source": [
    "df['date'] = pd.to_datetime(df.date)"
   ]
  },
  {
   "cell_type": "code",
   "execution_count": 6,
   "id": "9c61431a",
   "metadata": {},
   "outputs": [],
   "source": [
    "# Setting DateTime index\n",
    "df['date'] = pd.to_datetime(df.date)\n",
    "df.set_index('date', inplace=True)"
   ]
  },
  {
   "cell_type": "code",
   "execution_count": 7,
   "id": "e44c30f4",
   "metadata": {},
   "outputs": [
    {
     "name": "stdout",
     "output_type": "stream",
     "text": [
      "<class 'pandas.core.frame.DataFrame'>\n",
      "DatetimeIndex: 43799 entries, 2010-01-02 00:00:00 to 2014-12-31 22:00:00\n",
      "Data columns (total 49 columns):\n",
      " #   Column       Non-Null Count  Dtype  \n",
      "---  ------       --------------  -----  \n",
      " 0   pm25         43799 non-null  int64  \n",
      " 1   dewp         43799 non-null  int64  \n",
      " 2   temp         43799 non-null  int64  \n",
      " 3   cws          43799 non-null  float64\n",
      " 4   target       43799 non-null  float64\n",
      " 5   cwkend       43799 non-null  float64\n",
      " 6   cbwd_1       43799 non-null  int64  \n",
      " 7   cbwd_2       43799 non-null  int64  \n",
      " 8   cbwd_3       43799 non-null  int64  \n",
      " 9   mth_sin      43799 non-null  float64\n",
      " 10  mth_cos      43799 non-null  float64\n",
      " 11  hour_sin     43799 non-null  float64\n",
      " 12  hour_cos     43799 non-null  float64\n",
      " 13  hour_num     43799 non-null  float64\n",
      " 14  mth_num      43799 non-null  float64\n",
      " 15  cmonth_2.0   43799 non-null  int64  \n",
      " 16  cmonth_3.0   43799 non-null  int64  \n",
      " 17  cmonth_4.0   43799 non-null  int64  \n",
      " 18  cmonth_5.0   43799 non-null  int64  \n",
      " 19  cmonth_6.0   43799 non-null  int64  \n",
      " 20  cmonth_7.0   43799 non-null  int64  \n",
      " 21  cmonth_8.0   43799 non-null  int64  \n",
      " 22  cmonth_9.0   43799 non-null  int64  \n",
      " 23  cmonth_10.0  43799 non-null  int64  \n",
      " 24  cmonth_11.0  43799 non-null  int64  \n",
      " 25  cmonth_12.0  43799 non-null  int64  \n",
      " 26  chour_1.0    43799 non-null  int64  \n",
      " 27  chour_2.0    43799 non-null  int64  \n",
      " 28  chour_3.0    43799 non-null  int64  \n",
      " 29  chour_4.0    43799 non-null  int64  \n",
      " 30  chour_5.0    43799 non-null  int64  \n",
      " 31  chour_6.0    43799 non-null  int64  \n",
      " 32  chour_7.0    43799 non-null  int64  \n",
      " 33  chour_8.0    43799 non-null  int64  \n",
      " 34  chour_9.0    43799 non-null  int64  \n",
      " 35  chour_10.0   43799 non-null  int64  \n",
      " 36  chour_11.0   43799 non-null  int64  \n",
      " 37  chour_12.0   43799 non-null  int64  \n",
      " 38  chour_13.0   43799 non-null  int64  \n",
      " 39  chour_14.0   43799 non-null  int64  \n",
      " 40  chour_15.0   43799 non-null  int64  \n",
      " 41  chour_16.0   43799 non-null  int64  \n",
      " 42  chour_17.0   43799 non-null  int64  \n",
      " 43  chour_18.0   43799 non-null  int64  \n",
      " 44  chour_19.0   43799 non-null  int64  \n",
      " 45  chour_20.0   43799 non-null  int64  \n",
      " 46  chour_21.0   43799 non-null  int64  \n",
      " 47  chour_22.0   43799 non-null  int64  \n",
      " 48  chour_23.0   43799 non-null  int64  \n",
      "dtypes: float64(9), int64(40)\n",
      "memory usage: 16.7 MB\n"
     ]
    }
   ],
   "source": [
    "df.info()"
   ]
  },
  {
   "cell_type": "code",
   "execution_count": 8,
   "id": "e78e1b99",
   "metadata": {},
   "outputs": [],
   "source": [
    "# Change the integer variables to int32 type to reduce memory usage\n",
    "df[['pm25', 'dewp', 'temp', 'target', 'hour_num', 'mth_num']] = \\\n",
    "    df[['pm25', 'dewp', 'temp', 'target', 'hour_num', 'mth_num']].astype(np.int32)"
   ]
  },
  {
   "cell_type": "code",
   "execution_count": 9,
   "id": "8cfc8228",
   "metadata": {},
   "outputs": [],
   "source": [
    "# Change the dummy variables to uint8 type to reduce memory usage\n",
    "df[['cmonth_2.0', 'cmonth_3.0', 'cmonth_4.0', 'cmonth_5.0', 'cmonth_6.0', 'cmonth_7.0', 'cmonth_8.0', 'cmonth_9.0',\n",
    "    'cmonth_10.0', 'cmonth_11.0', 'cmonth_12.0', 'chour_1.0', 'chour_2.0', 'chour_3.0', 'chour_4.0', 'chour_5.0',\n",
    "    'chour_6.0', 'chour_7.0', 'chour_8.0', 'chour_9.0', 'chour_10.0', 'chour_11.0', 'chour_12.0', 'chour_13.0', \n",
    "    'chour_14.0', 'chour_15.0', 'chour_16.0', 'chour_17.0', 'chour_18.0', 'chour_19.0', 'chour_20.0', 'chour_21.0',\n",
    "    'chour_22.0', 'chour_23.0', 'cwkend', 'cbwd_1', 'cbwd_2', 'cbwd_3']] = \\\n",
    "    df[['cmonth_2.0', 'cmonth_3.0', 'cmonth_4.0', 'cmonth_5.0', 'cmonth_6.0', 'cmonth_7.0', 'cmonth_8.0', \n",
    "        'cmonth_9.0', 'cmonth_10.0', 'cmonth_11.0', 'cmonth_12.0', 'chour_1.0', 'chour_2.0', 'chour_3.0',\n",
    "        'chour_4.0', 'chour_5.0', 'chour_6.0', 'chour_7.0', 'chour_8.0', 'chour_9.0', 'chour_10.0', 'chour_11.0',\n",
    "        'chour_12.0', 'chour_13.0', 'chour_14.0', 'chour_15.0', 'chour_16.0', 'chour_17.0', 'chour_18.0',\n",
    "        'chour_19.0', 'chour_20.0', 'chour_21.0', 'chour_22.0', 'chour_23.0', 'cwkend', 'cbwd_1', 'cbwd_2', \n",
    "        'cbwd_3']].astype(np.uint8)"
   ]
  },
  {
   "cell_type": "code",
   "execution_count": 10,
   "id": "d93f026c",
   "metadata": {},
   "outputs": [
    {
     "name": "stdout",
     "output_type": "stream",
     "text": [
      "<class 'pandas.core.frame.DataFrame'>\n",
      "DatetimeIndex: 43799 entries, 2010-01-02 00:00:00 to 2014-12-31 22:00:00\n",
      "Data columns (total 49 columns):\n",
      " #   Column       Non-Null Count  Dtype  \n",
      "---  ------       --------------  -----  \n",
      " 0   pm25         43799 non-null  int32  \n",
      " 1   dewp         43799 non-null  int32  \n",
      " 2   temp         43799 non-null  int32  \n",
      " 3   cws          43799 non-null  float64\n",
      " 4   target       43799 non-null  int32  \n",
      " 5   cwkend       43799 non-null  uint8  \n",
      " 6   cbwd_1       43799 non-null  uint8  \n",
      " 7   cbwd_2       43799 non-null  uint8  \n",
      " 8   cbwd_3       43799 non-null  uint8  \n",
      " 9   mth_sin      43799 non-null  float64\n",
      " 10  mth_cos      43799 non-null  float64\n",
      " 11  hour_sin     43799 non-null  float64\n",
      " 12  hour_cos     43799 non-null  float64\n",
      " 13  hour_num     43799 non-null  int32  \n",
      " 14  mth_num      43799 non-null  int32  \n",
      " 15  cmonth_2.0   43799 non-null  uint8  \n",
      " 16  cmonth_3.0   43799 non-null  uint8  \n",
      " 17  cmonth_4.0   43799 non-null  uint8  \n",
      " 18  cmonth_5.0   43799 non-null  uint8  \n",
      " 19  cmonth_6.0   43799 non-null  uint8  \n",
      " 20  cmonth_7.0   43799 non-null  uint8  \n",
      " 21  cmonth_8.0   43799 non-null  uint8  \n",
      " 22  cmonth_9.0   43799 non-null  uint8  \n",
      " 23  cmonth_10.0  43799 non-null  uint8  \n",
      " 24  cmonth_11.0  43799 non-null  uint8  \n",
      " 25  cmonth_12.0  43799 non-null  uint8  \n",
      " 26  chour_1.0    43799 non-null  uint8  \n",
      " 27  chour_2.0    43799 non-null  uint8  \n",
      " 28  chour_3.0    43799 non-null  uint8  \n",
      " 29  chour_4.0    43799 non-null  uint8  \n",
      " 30  chour_5.0    43799 non-null  uint8  \n",
      " 31  chour_6.0    43799 non-null  uint8  \n",
      " 32  chour_7.0    43799 non-null  uint8  \n",
      " 33  chour_8.0    43799 non-null  uint8  \n",
      " 34  chour_9.0    43799 non-null  uint8  \n",
      " 35  chour_10.0   43799 non-null  uint8  \n",
      " 36  chour_11.0   43799 non-null  uint8  \n",
      " 37  chour_12.0   43799 non-null  uint8  \n",
      " 38  chour_13.0   43799 non-null  uint8  \n",
      " 39  chour_14.0   43799 non-null  uint8  \n",
      " 40  chour_15.0   43799 non-null  uint8  \n",
      " 41  chour_16.0   43799 non-null  uint8  \n",
      " 42  chour_17.0   43799 non-null  uint8  \n",
      " 43  chour_18.0   43799 non-null  uint8  \n",
      " 44  chour_19.0   43799 non-null  uint8  \n",
      " 45  chour_20.0   43799 non-null  uint8  \n",
      " 46  chour_21.0   43799 non-null  uint8  \n",
      " 47  chour_22.0   43799 non-null  uint8  \n",
      " 48  chour_23.0   43799 non-null  uint8  \n",
      "dtypes: float64(5), int32(6), uint8(38)\n",
      "memory usage: 4.6 MB\n"
     ]
    }
   ],
   "source": [
    "df.info()"
   ]
  },
  {
   "cell_type": "markdown",
   "id": "98fd528f",
   "metadata": {},
   "source": [
    "# Create Dummies & Numeric Datasets"
   ]
  },
  {
   "cell_type": "markdown",
   "id": "d9d4608d",
   "metadata": {},
   "source": [
    "Form **two** separate datasets:\n",
    "- DataFrame with **dummy month and hour variables**\n",
    "- DataFrame with **single numerical month and hour variables**"
   ]
  },
  {
   "cell_type": "code",
   "execution_count": 11,
   "id": "a6fec7f3",
   "metadata": {},
   "outputs": [],
   "source": [
    "# The dummy seasonality dataset\n",
    "df_dum = df.drop(['mth_sin', 'mth_cos', 'hour_sin', 'hour_cos', 'hour_num', 'mth_num'], axis=1)"
   ]
  },
  {
   "cell_type": "code",
   "execution_count": 12,
   "id": "b053b424",
   "metadata": {},
   "outputs": [],
   "source": [
    "# The numerical seasonality dataset\n",
    "df_num = df[['pm25', 'dewp', 'temp', 'cws', 'target', 'cwkend', 'cbwd_1', \n",
    "             'cbwd_2', 'cbwd_3', 'hour_num', 'mth_num']]"
   ]
  },
  {
   "cell_type": "markdown",
   "id": "223c6e50",
   "metadata": {},
   "source": [
    "# Preparing Data for Optimization"
   ]
  },
  {
   "cell_type": "markdown",
   "id": "2087498b",
   "metadata": {},
   "source": [
    "### Train-Test Split"
   ]
  },
  {
   "cell_type": "code",
   "execution_count": 13,
   "id": "696d6fd7",
   "metadata": {},
   "outputs": [],
   "source": [
    "# Set test set at 20% of data\n",
    "sample = int(len(df)*0.2)"
   ]
  },
  {
   "cell_type": "code",
   "execution_count": 14,
   "id": "9866ee92",
   "metadata": {},
   "outputs": [
    {
     "data": {
      "text/plain": [
       "8759"
      ]
     },
     "execution_count": 14,
     "metadata": {},
     "output_type": "execute_result"
    }
   ],
   "source": [
    "sample"
   ]
  },
  {
   "cell_type": "code",
   "execution_count": 15,
   "id": "cdc0d67e",
   "metadata": {},
   "outputs": [],
   "source": [
    "# Split dummy seasonality dataset\n",
    "df_dumt = df_dum.iloc[-sample:]\n",
    "df_dum = df_dum.iloc[:-sample]"
   ]
  },
  {
   "cell_type": "code",
   "execution_count": 16,
   "id": "b25542fa",
   "metadata": {},
   "outputs": [
    {
     "name": "stdout",
     "output_type": "stream",
     "text": [
      "<class 'pandas.core.frame.DataFrame'>\n",
      "DatetimeIndex: 35040 entries, 2010-01-02 00:00:00 to 2013-12-31 23:00:00\n",
      "Data columns (total 43 columns):\n",
      " #   Column       Non-Null Count  Dtype  \n",
      "---  ------       --------------  -----  \n",
      " 0   pm25         35040 non-null  int32  \n",
      " 1   dewp         35040 non-null  int32  \n",
      " 2   temp         35040 non-null  int32  \n",
      " 3   cws          35040 non-null  float64\n",
      " 4   target       35040 non-null  int32  \n",
      " 5   cwkend       35040 non-null  uint8  \n",
      " 6   cbwd_1       35040 non-null  uint8  \n",
      " 7   cbwd_2       35040 non-null  uint8  \n",
      " 8   cbwd_3       35040 non-null  uint8  \n",
      " 9   cmonth_2.0   35040 non-null  uint8  \n",
      " 10  cmonth_3.0   35040 non-null  uint8  \n",
      " 11  cmonth_4.0   35040 non-null  uint8  \n",
      " 12  cmonth_5.0   35040 non-null  uint8  \n",
      " 13  cmonth_6.0   35040 non-null  uint8  \n",
      " 14  cmonth_7.0   35040 non-null  uint8  \n",
      " 15  cmonth_8.0   35040 non-null  uint8  \n",
      " 16  cmonth_9.0   35040 non-null  uint8  \n",
      " 17  cmonth_10.0  35040 non-null  uint8  \n",
      " 18  cmonth_11.0  35040 non-null  uint8  \n",
      " 19  cmonth_12.0  35040 non-null  uint8  \n",
      " 20  chour_1.0    35040 non-null  uint8  \n",
      " 21  chour_2.0    35040 non-null  uint8  \n",
      " 22  chour_3.0    35040 non-null  uint8  \n",
      " 23  chour_4.0    35040 non-null  uint8  \n",
      " 24  chour_5.0    35040 non-null  uint8  \n",
      " 25  chour_6.0    35040 non-null  uint8  \n",
      " 26  chour_7.0    35040 non-null  uint8  \n",
      " 27  chour_8.0    35040 non-null  uint8  \n",
      " 28  chour_9.0    35040 non-null  uint8  \n",
      " 29  chour_10.0   35040 non-null  uint8  \n",
      " 30  chour_11.0   35040 non-null  uint8  \n",
      " 31  chour_12.0   35040 non-null  uint8  \n",
      " 32  chour_13.0   35040 non-null  uint8  \n",
      " 33  chour_14.0   35040 non-null  uint8  \n",
      " 34  chour_15.0   35040 non-null  uint8  \n",
      " 35  chour_16.0   35040 non-null  uint8  \n",
      " 36  chour_17.0   35040 non-null  uint8  \n",
      " 37  chour_18.0   35040 non-null  uint8  \n",
      " 38  chour_19.0   35040 non-null  uint8  \n",
      " 39  chour_20.0   35040 non-null  uint8  \n",
      " 40  chour_21.0   35040 non-null  uint8  \n",
      " 41  chour_22.0   35040 non-null  uint8  \n",
      " 42  chour_23.0   35040 non-null  uint8  \n",
      "dtypes: float64(1), int32(4), uint8(38)\n",
      "memory usage: 2.3 MB\n"
     ]
    }
   ],
   "source": [
    "df_dum.info()"
   ]
  },
  {
   "cell_type": "code",
   "execution_count": 17,
   "id": "99817bb3",
   "metadata": {},
   "outputs": [
    {
     "name": "stdout",
     "output_type": "stream",
     "text": [
      "<class 'pandas.core.frame.DataFrame'>\n",
      "DatetimeIndex: 8759 entries, 2014-01-01 00:00:00 to 2014-12-31 22:00:00\n",
      "Data columns (total 43 columns):\n",
      " #   Column       Non-Null Count  Dtype  \n",
      "---  ------       --------------  -----  \n",
      " 0   pm25         8759 non-null   int32  \n",
      " 1   dewp         8759 non-null   int32  \n",
      " 2   temp         8759 non-null   int32  \n",
      " 3   cws          8759 non-null   float64\n",
      " 4   target       8759 non-null   int32  \n",
      " 5   cwkend       8759 non-null   uint8  \n",
      " 6   cbwd_1       8759 non-null   uint8  \n",
      " 7   cbwd_2       8759 non-null   uint8  \n",
      " 8   cbwd_3       8759 non-null   uint8  \n",
      " 9   cmonth_2.0   8759 non-null   uint8  \n",
      " 10  cmonth_3.0   8759 non-null   uint8  \n",
      " 11  cmonth_4.0   8759 non-null   uint8  \n",
      " 12  cmonth_5.0   8759 non-null   uint8  \n",
      " 13  cmonth_6.0   8759 non-null   uint8  \n",
      " 14  cmonth_7.0   8759 non-null   uint8  \n",
      " 15  cmonth_8.0   8759 non-null   uint8  \n",
      " 16  cmonth_9.0   8759 non-null   uint8  \n",
      " 17  cmonth_10.0  8759 non-null   uint8  \n",
      " 18  cmonth_11.0  8759 non-null   uint8  \n",
      " 19  cmonth_12.0  8759 non-null   uint8  \n",
      " 20  chour_1.0    8759 non-null   uint8  \n",
      " 21  chour_2.0    8759 non-null   uint8  \n",
      " 22  chour_3.0    8759 non-null   uint8  \n",
      " 23  chour_4.0    8759 non-null   uint8  \n",
      " 24  chour_5.0    8759 non-null   uint8  \n",
      " 25  chour_6.0    8759 non-null   uint8  \n",
      " 26  chour_7.0    8759 non-null   uint8  \n",
      " 27  chour_8.0    8759 non-null   uint8  \n",
      " 28  chour_9.0    8759 non-null   uint8  \n",
      " 29  chour_10.0   8759 non-null   uint8  \n",
      " 30  chour_11.0   8759 non-null   uint8  \n",
      " 31  chour_12.0   8759 non-null   uint8  \n",
      " 32  chour_13.0   8759 non-null   uint8  \n",
      " 33  chour_14.0   8759 non-null   uint8  \n",
      " 34  chour_15.0   8759 non-null   uint8  \n",
      " 35  chour_16.0   8759 non-null   uint8  \n",
      " 36  chour_17.0   8759 non-null   uint8  \n",
      " 37  chour_18.0   8759 non-null   uint8  \n",
      " 38  chour_19.0   8759 non-null   uint8  \n",
      " 39  chour_20.0   8759 non-null   uint8  \n",
      " 40  chour_21.0   8759 non-null   uint8  \n",
      " 41  chour_22.0   8759 non-null   uint8  \n",
      " 42  chour_23.0   8759 non-null   uint8  \n",
      "dtypes: float64(1), int32(4), uint8(38)\n",
      "memory usage: 598.8 KB\n"
     ]
    }
   ],
   "source": [
    "df_dumt.info()"
   ]
  },
  {
   "cell_type": "code",
   "execution_count": 18,
   "id": "ab11e6c8",
   "metadata": {},
   "outputs": [],
   "source": [
    "# Target variables\n",
    "y_dumt = df_dumt.pop('target')\n",
    "y_dum = df_dum.pop('target')"
   ]
  },
  {
   "cell_type": "code",
   "execution_count": 19,
   "id": "360af620",
   "metadata": {},
   "outputs": [],
   "source": [
    "# Split numerical seasonality dataset\n",
    "df_numt = df_num.iloc[-sample:]\n",
    "df_num = df_num.iloc[:-sample]"
   ]
  },
  {
   "cell_type": "code",
   "execution_count": 20,
   "id": "2d66f0bd",
   "metadata": {},
   "outputs": [],
   "source": [
    "# Target variables\n",
    "y_numt = df_numt.pop('target')\n",
    "y_num = df_num.pop('target')"
   ]
  },
  {
   "cell_type": "markdown",
   "id": "a8673921",
   "metadata": {},
   "source": [
    "### Scaling data"
   ]
  },
  {
   "cell_type": "code",
   "execution_count": 21,
   "id": "4b2fa979",
   "metadata": {},
   "outputs": [],
   "source": [
    "# Using MinMaxScaler due to the comparison with the dummy seasonality data\n",
    "scaler = MinMaxScaler()"
   ]
  },
  {
   "cell_type": "code",
   "execution_count": 22,
   "id": "b8435036",
   "metadata": {},
   "outputs": [],
   "source": [
    "# Scaling the dummies dataset\n",
    "X_dum = scaler.fit_transform(df_dum)\n",
    "X_dumt = scaler.transform(df_dumt)"
   ]
  },
  {
   "cell_type": "code",
   "execution_count": 23,
   "id": "58029827",
   "metadata": {},
   "outputs": [],
   "source": [
    "# Scaling the numerical dataset\n",
    "X_num = scaler.fit_transform(df_num)\n",
    "X_numt = scaler.transform(df_numt)"
   ]
  },
  {
   "cell_type": "code",
   "execution_count": 24,
   "id": "932d1d03",
   "metadata": {},
   "outputs": [],
   "source": [
    "#Make time series validation scheme for Nested Cross-Validation\n",
    "time_split = TimeSeriesSplit(n_splits = 3)"
   ]
  },
  {
   "cell_type": "markdown",
   "id": "c4024bd9",
   "metadata": {},
   "source": [
    "# Randomized Search CV"
   ]
  },
  {
   "cell_type": "markdown",
   "id": "6e6822f2",
   "metadata": {},
   "source": [
    "The first optimization is undertaken on the **dummy seasonality** dataset"
   ]
  },
  {
   "cell_type": "code",
   "execution_count": 25,
   "id": "f3d9a88f",
   "metadata": {},
   "outputs": [],
   "source": [
    "# Lasso Regression\n",
    "lasso = Lasso(random_state=11)\n",
    "\n",
    "las_dist = {'fit_intercept': [1, 0],\n",
    "            'alpha': uniform(0.001, 2)}\n"
   ]
  },
  {
   "cell_type": "code",
   "execution_count": 26,
   "id": "ea3a0565",
   "metadata": {},
   "outputs": [],
   "source": [
    "rs_las = RandomizedSearchCV(lasso, las_dist, cv=time_split, scoring='neg_mean_squared_error', \n",
    "                            n_jobs=-1, verbose=1)"
   ]
  },
  {
   "cell_type": "code",
   "execution_count": 27,
   "id": "275e4b8b",
   "metadata": {},
   "outputs": [
    {
     "name": "stdout",
     "output_type": "stream",
     "text": [
      "Fitting 3 folds for each of 10 candidates, totalling 30 fits\n"
     ]
    },
    {
     "data": {
      "text/plain": [
       "RandomizedSearchCV(cv=TimeSeriesSplit(gap=0, max_train_size=None, n_splits=3, test_size=None),\n",
       "                   estimator=Lasso(random_state=11), n_jobs=-1,\n",
       "                   param_distributions={'alpha': <scipy.stats._distn_infrastructure.rv_frozen object at 0x0000020B3948A1F0>,\n",
       "                                        'fit_intercept': [1, 0]},\n",
       "                   scoring='neg_mean_squared_error', verbose=1)"
      ]
     },
     "execution_count": 27,
     "metadata": {},
     "output_type": "execute_result"
    }
   ],
   "source": [
    "rs_las.fit(X_dum, y_dum)"
   ]
  },
  {
   "cell_type": "code",
   "execution_count": 28,
   "id": "85b8e01f",
   "metadata": {},
   "outputs": [],
   "source": [
    "# Ridge Regression\n",
    "ridge = Ridge(random_state=11)\n",
    "\n",
    "rdg_dist = {'fit_intercept': [1, 0],\n",
    "            'solver': ['lsqr', 'sag', 'cholesky'],\n",
    "            'alpha': uniform(0.001, 2)}\n"
   ]
  },
  {
   "cell_type": "code",
   "execution_count": 29,
   "id": "b4a7d784",
   "metadata": {},
   "outputs": [],
   "source": [
    "rs_rdg = RandomizedSearchCV(ridge, rdg_dist, cv=time_split, scoring='neg_mean_squared_error', \n",
    "                            n_jobs=-1, verbose=1)"
   ]
  },
  {
   "cell_type": "code",
   "execution_count": 30,
   "id": "1c47c666",
   "metadata": {},
   "outputs": [
    {
     "name": "stdout",
     "output_type": "stream",
     "text": [
      "Fitting 3 folds for each of 10 candidates, totalling 30 fits\n"
     ]
    },
    {
     "data": {
      "text/plain": [
       "RandomizedSearchCV(cv=TimeSeriesSplit(gap=0, max_train_size=None, n_splits=3, test_size=None),\n",
       "                   estimator=Ridge(random_state=11), n_jobs=-1,\n",
       "                   param_distributions={'alpha': <scipy.stats._distn_infrastructure.rv_frozen object at 0x0000020B394AD790>,\n",
       "                                        'fit_intercept': [1, 0],\n",
       "                                        'solver': ['lsqr', 'sag', 'cholesky']},\n",
       "                   scoring='neg_mean_squared_error', verbose=1)"
      ]
     },
     "execution_count": 30,
     "metadata": {},
     "output_type": "execute_result"
    }
   ],
   "source": [
    "rs_rdg.fit(X_dum, y_dum)"
   ]
  },
  {
   "cell_type": "code",
   "execution_count": 31,
   "id": "5fb9ab8b",
   "metadata": {},
   "outputs": [],
   "source": [
    "# Random Forest\n",
    "rf = RandomForestRegressor(random_state=11)\n",
    "\n",
    "rf_dist = {'n_estimators': randint(50, 500),\n",
    "           'min_samples_split': randint(2, 9),\n",
    "           'max_features': ['auto', 'log2', 'sqrt']}\n"
   ]
  },
  {
   "cell_type": "code",
   "execution_count": 32,
   "id": "118453fe",
   "metadata": {},
   "outputs": [],
   "source": [
    "rs_rf = RandomizedSearchCV(rf, rf_dist, cv=time_split, scoring = 'neg_mean_squared_error', \n",
    "                           n_jobs=-1, verbose=1)"
   ]
  },
  {
   "cell_type": "code",
   "execution_count": 33,
   "id": "21a9fbea",
   "metadata": {},
   "outputs": [
    {
     "name": "stdout",
     "output_type": "stream",
     "text": [
      "Fitting 3 folds for each of 10 candidates, totalling 30 fits\n"
     ]
    },
    {
     "data": {
      "text/plain": [
       "RandomizedSearchCV(cv=TimeSeriesSplit(gap=0, max_train_size=None, n_splits=3, test_size=None),\n",
       "                   estimator=RandomForestRegressor(random_state=11), n_jobs=-1,\n",
       "                   param_distributions={'max_features': ['auto', 'log2',\n",
       "                                                         'sqrt'],\n",
       "                                        'min_samples_split': <scipy.stats._distn_infrastructure.rv_frozen object at 0x0000020B39491D60>,\n",
       "                                        'n_estimators': <scipy.stats._distn_infrastructure.rv_frozen object at 0x0000020B39214790>},\n",
       "                   scoring='neg_mean_squared_error', verbose=1)"
      ]
     },
     "execution_count": 33,
     "metadata": {},
     "output_type": "execute_result"
    }
   ],
   "source": [
    "rs_rf.fit(X_dum, y_dum)"
   ]
  },
  {
   "cell_type": "code",
   "execution_count": 34,
   "id": "a1629a3b",
   "metadata": {},
   "outputs": [],
   "source": [
    "# XG Boost Regressor\n",
    "xgb = xgb.XGBRegressor(objective='reg:squarederror', random_state=11)\n",
    "\n",
    "xgb_dist = {'n_estimators': randint(50, 500),\n",
    "            'subsample': [0.5, 0.7, 1],\n",
    "            'eta': uniform(0.05, 1),\n",
    "            'gamma': randint(0, 300)}\n"
   ]
  },
  {
   "cell_type": "code",
   "execution_count": 35,
   "id": "dddbd9c7",
   "metadata": {},
   "outputs": [],
   "source": [
    "rs_xgb = RandomizedSearchCV(xgb, xgb_dist, cv=time_split, scoring = 'neg_mean_squared_error', \n",
    "                            n_jobs=-1, verbose=1)"
   ]
  },
  {
   "cell_type": "code",
   "execution_count": 36,
   "id": "bdc67e97",
   "metadata": {},
   "outputs": [
    {
     "name": "stdout",
     "output_type": "stream",
     "text": [
      "Fitting 3 folds for each of 10 candidates, totalling 30 fits\n"
     ]
    },
    {
     "data": {
      "text/plain": [
       "RandomizedSearchCV(cv=TimeSeriesSplit(gap=0, max_train_size=None, n_splits=3, test_size=None),\n",
       "                   estimator=XGBRegressor(base_score=None, booster=None,\n",
       "                                          colsample_bylevel=None,\n",
       "                                          colsample_bynode=None,\n",
       "                                          colsample_bytree=None, gamma=None,\n",
       "                                          gpu_id=None, importance_type='gain',\n",
       "                                          interaction_constraints=None,\n",
       "                                          learning_rate=None,\n",
       "                                          max_delta_step=None, max_depth=None,\n",
       "                                          min_child_w...\n",
       "                                          verbosity=None),\n",
       "                   n_jobs=-1,\n",
       "                   param_distributions={'eta': <scipy.stats._distn_infrastructure.rv_frozen object at 0x0000020B39423910>,\n",
       "                                        'gamma': <scipy.stats._distn_infrastructure.rv_frozen object at 0x0000020B39423D30>,\n",
       "                                        'n_estimators': <scipy.stats._distn_infrastructure.rv_frozen object at 0x0000020B394419D0>,\n",
       "                                        'subsample': [0.5, 0.7, 1]},\n",
       "                   scoring='neg_mean_squared_error', verbose=1)"
      ]
     },
     "execution_count": 36,
     "metadata": {},
     "output_type": "execute_result"
    }
   ],
   "source": [
    "rs_xgb.fit(X_dum, y_dum)"
   ]
  },
  {
   "cell_type": "code",
   "execution_count": 37,
   "id": "07bd576c",
   "metadata": {},
   "outputs": [],
   "source": [
    "# Support Vector Regressor\n",
    "svm = SVR()\n",
    "\n",
    "svm_dist = {'kernel': ['rbf', 'linear', 'poly'],\n",
    "            'gamma': ['scale', 'auto', 0.2], \n",
    "            'epsilon': uniform(0.01, 3),\n",
    "            'C': uniform(0.1, 5)}\n"
   ]
  },
  {
   "cell_type": "code",
   "execution_count": 38,
   "id": "7db2d0f9",
   "metadata": {},
   "outputs": [],
   "source": [
    "rs_svm = RandomizedSearchCV(svm, svm_dist, cv=time_split, scoring = 'neg_mean_squared_error', \n",
    "                            n_jobs=-1, verbose=1)"
   ]
  },
  {
   "cell_type": "code",
   "execution_count": 39,
   "id": "41f121ef",
   "metadata": {},
   "outputs": [
    {
     "name": "stdout",
     "output_type": "stream",
     "text": [
      "Fitting 3 folds for each of 10 candidates, totalling 30 fits\n"
     ]
    },
    {
     "data": {
      "text/plain": [
       "RandomizedSearchCV(cv=TimeSeriesSplit(gap=0, max_train_size=None, n_splits=3, test_size=None),\n",
       "                   estimator=SVR(), n_jobs=-1,\n",
       "                   param_distributions={'C': <scipy.stats._distn_infrastructure.rv_frozen object at 0x0000020B39438F40>,\n",
       "                                        'epsilon': <scipy.stats._distn_infrastructure.rv_frozen object at 0x0000020B3942E760>,\n",
       "                                        'gamma': ['scale', 'auto', 0.2],\n",
       "                                        'kernel': ['rbf', 'linear', 'poly']},\n",
       "                   scoring='neg_mean_squared_error', verbose=1)"
      ]
     },
     "execution_count": 39,
     "metadata": {},
     "output_type": "execute_result"
    }
   ],
   "source": [
    "rs_svm.fit(X_dum, y_dum)"
   ]
  },
  {
   "cell_type": "code",
   "execution_count": 40,
   "id": "182be51d",
   "metadata": {},
   "outputs": [],
   "source": [
    "# Multi-Layer Perceptron\n",
    "# Typically 1-2 hidden layers are adequate, and the optimal size of the first hidden layer is usually... \n",
    "# between that of the input and the output layers, or 42 and 1 in this case (42 is the max with all the time dummies)\n",
    "\n",
    "mlp = MLPRegressor(early_stopping=True, max_iter=10000, random_state=11)\n",
    "\n",
    "mlp_dist = {'hidden_layer_sizes': [(18,), (24,), (32,), (18,10), (24,10), (24,18), (32,10), (32,18), (32,24)],\n",
    "            'alpha': uniform(0.01, 5),\n",
    "            'activation': ['relu', 'tanh'],\n",
    "            'solver': ['lbfgs', 'adam']}\n"
   ]
  },
  {
   "cell_type": "code",
   "execution_count": 41,
   "id": "f0e360ae",
   "metadata": {},
   "outputs": [],
   "source": [
    "rs_mlp = RandomizedSearchCV(mlp, mlp_dist, cv=time_split, scoring = 'neg_mean_squared_error', \n",
    "                            n_jobs=-1, verbose=1)"
   ]
  },
  {
   "cell_type": "code",
   "execution_count": 42,
   "id": "1674697b",
   "metadata": {},
   "outputs": [
    {
     "name": "stdout",
     "output_type": "stream",
     "text": [
      "Fitting 3 folds for each of 10 candidates, totalling 30 fits\n"
     ]
    },
    {
     "data": {
      "text/plain": [
       "RandomizedSearchCV(cv=TimeSeriesSplit(gap=0, max_train_size=None, n_splits=3, test_size=None),\n",
       "                   estimator=MLPRegressor(early_stopping=True, max_iter=10000,\n",
       "                                          random_state=11),\n",
       "                   n_jobs=-1,\n",
       "                   param_distributions={'activation': ['relu', 'tanh'],\n",
       "                                        'alpha': <scipy.stats._distn_infrastructure.rv_frozen object at 0x0000020B39454850>,\n",
       "                                        'hidden_layer_sizes': [(18,), (24,),\n",
       "                                                               (32,), (18, 10),\n",
       "                                                               (24, 10),\n",
       "                                                               (24, 18),\n",
       "                                                               (32, 10),\n",
       "                                                               (32, 18),\n",
       "                                                               (32, 24)],\n",
       "                                        'solver': ['lbfgs', 'adam']},\n",
       "                   scoring='neg_mean_squared_error', verbose=1)"
      ]
     },
     "execution_count": 42,
     "metadata": {},
     "output_type": "execute_result"
    }
   ],
   "source": [
    "rs_mlp.fit(X_dum, y_dum)"
   ]
  },
  {
   "cell_type": "markdown",
   "id": "c1081d98",
   "metadata": {},
   "source": [
    "### Best parameters found"
   ]
  },
  {
   "cell_type": "code",
   "execution_count": 43,
   "id": "08b5bebc",
   "metadata": {},
   "outputs": [
    {
     "data": {
      "text/plain": [
       "{'alpha': 0.39588637600600995, 'fit_intercept': 0}"
      ]
     },
     "execution_count": 43,
     "metadata": {},
     "output_type": "execute_result"
    }
   ],
   "source": [
    "rs_las.best_params_"
   ]
  },
  {
   "cell_type": "code",
   "execution_count": 44,
   "id": "a8c6c1c3",
   "metadata": {},
   "outputs": [
    {
     "data": {
      "text/plain": [
       "{'alpha': 0.7116179037220222, 'fit_intercept': 1, 'solver': 'cholesky'}"
      ]
     },
     "execution_count": 44,
     "metadata": {},
     "output_type": "execute_result"
    }
   ],
   "source": [
    "rs_rdg.best_params_"
   ]
  },
  {
   "cell_type": "code",
   "execution_count": 45,
   "id": "ae1cfa5a",
   "metadata": {},
   "outputs": [
    {
     "data": {
      "text/plain": [
       "{'max_features': 'auto', 'min_samples_split': 7, 'n_estimators': 458}"
      ]
     },
     "execution_count": 45,
     "metadata": {},
     "output_type": "execute_result"
    }
   ],
   "source": [
    "rs_rf.best_params_"
   ]
  },
  {
   "cell_type": "code",
   "execution_count": 46,
   "id": "6a420e38",
   "metadata": {},
   "outputs": [
    {
     "data": {
      "text/plain": [
       "{'eta': 0.1683725558025208, 'gamma': 256, 'n_estimators': 467, 'subsample': 1}"
      ]
     },
     "execution_count": 46,
     "metadata": {},
     "output_type": "execute_result"
    }
   ],
   "source": [
    "rs_xgb.best_params_"
   ]
  },
  {
   "cell_type": "code",
   "execution_count": 47,
   "id": "ed2c0cdf",
   "metadata": {},
   "outputs": [
    {
     "data": {
      "text/plain": [
       "{'C': 4.975296493539874,\n",
       " 'epsilon': 1.2482012816757908,\n",
       " 'gamma': 'auto',\n",
       " 'kernel': 'linear'}"
      ]
     },
     "execution_count": 47,
     "metadata": {},
     "output_type": "execute_result"
    }
   ],
   "source": [
    "rs_svm.best_params_"
   ]
  },
  {
   "cell_type": "code",
   "execution_count": 48,
   "id": "812cae06",
   "metadata": {},
   "outputs": [
    {
     "data": {
      "text/plain": [
       "{'activation': 'relu',\n",
       " 'alpha': 3.6460757588153223,\n",
       " 'hidden_layer_sizes': (24,),\n",
       " 'solver': 'adam'}"
      ]
     },
     "execution_count": 48,
     "metadata": {},
     "output_type": "execute_result"
    }
   ],
   "source": [
    "rs_mlp.best_params_"
   ]
  },
  {
   "cell_type": "markdown",
   "id": "4b5e0ff0",
   "metadata": {},
   "source": [
    "# Cross-Validation & Scoring on Dummies Data"
   ]
  },
  {
   "cell_type": "markdown",
   "id": "ec0357e3",
   "metadata": {},
   "source": [
    "### Cross-validation on training data"
   ]
  },
  {
   "cell_type": "code",
   "execution_count": 49,
   "id": "f9b48c3a",
   "metadata": {},
   "outputs": [],
   "source": [
    "las_scores_dum = cross_val_score(rs_las, X_dum, y_dum, cv = time_split, n_jobs=-1, \n",
    "                                 scoring = 'neg_mean_absolute_error')"
   ]
  },
  {
   "cell_type": "code",
   "execution_count": 50,
   "id": "d53cc089",
   "metadata": {},
   "outputs": [],
   "source": [
    "rdg_scores_dum = cross_val_score(rs_rdg, X_dum, y_dum, cv = time_split, n_jobs=-1, \n",
    "                                 scoring = 'neg_mean_absolute_error')"
   ]
  },
  {
   "cell_type": "code",
   "execution_count": 51,
   "id": "7b500e09",
   "metadata": {},
   "outputs": [],
   "source": [
    "rf_scores_dum = cross_val_score(rs_rf, X_dum, y_dum, cv = time_split, n_jobs=-1, \n",
    "                                scoring = 'neg_mean_absolute_error')"
   ]
  },
  {
   "cell_type": "code",
   "execution_count": 52,
   "id": "a1c248ee",
   "metadata": {},
   "outputs": [
    {
     "name": "stdout",
     "output_type": "stream",
     "text": [
      "Fitting 3 folds for each of 10 candidates, totalling 30 fits\n",
      "Fitting 3 folds for each of 10 candidates, totalling 30 fits\n",
      "Fitting 3 folds for each of 10 candidates, totalling 30 fits\n"
     ]
    }
   ],
   "source": [
    "xgb_scores_dum = cross_val_score(rs_xgb, X_dum, y_dum, cv = time_split, \n",
    "                                 scoring = 'neg_mean_absolute_error')"
   ]
  },
  {
   "cell_type": "code",
   "execution_count": 53,
   "id": "787a4904",
   "metadata": {},
   "outputs": [],
   "source": [
    "svm_scores_dum = cross_val_score(rs_svm, X_dum, y_dum, cv = time_split, n_jobs=-1, \n",
    "                                 scoring = 'neg_mean_absolute_error')"
   ]
  },
  {
   "cell_type": "code",
   "execution_count": 54,
   "id": "bc7b5a61",
   "metadata": {},
   "outputs": [],
   "source": [
    "mlp_scores_dum = cross_val_score(rs_mlp, X_dum, y_dum, cv = time_split, n_jobs=-1, \n",
    "                                 scoring = 'neg_mean_absolute_error')"
   ]
  },
  {
   "cell_type": "code",
   "execution_count": 55,
   "id": "a24dfc26",
   "metadata": {},
   "outputs": [],
   "source": [
    "cv_dict_dum = {\n",
    "    'Lasso Regression': -np.round(las_scores_dum.mean(), 4),\n",
    "    'Ridge Regression': -np.round(rdg_scores_dum.mean(), 4),\n",
    "    'Random Forest': -np.round(rf_scores_dum.mean(), 4),\n",
    "    'Xtreme Gradient Boost': -np.round(xgb_scores_dum.mean(), 4),\n",
    "    'Support Vector Machine': -np.round(svm_scores_dum.mean(), 4),\n",
    "    'Multi-Layer Perceptron': -np.round(mlp_scores_dum.mean(), 4),\n",
    "}"
   ]
  },
  {
   "cell_type": "code",
   "execution_count": 56,
   "id": "cca4fe79",
   "metadata": {},
   "outputs": [],
   "source": [
    "df_cv_dum = pd.DataFrame({'Model': cv_dict_dum.keys(), 'Average MAE': cv_dict_dum.values()})"
   ]
  },
  {
   "cell_type": "markdown",
   "id": "8ab411f7",
   "metadata": {},
   "source": [
    "### Scoring test data"
   ]
  },
  {
   "cell_type": "code",
   "execution_count": 57,
   "id": "0240a671",
   "metadata": {},
   "outputs": [],
   "source": [
    "def reg_scoring(X, y, reg_dict):\n",
    "    '''\n",
    "    Objective: Cycles through a dictionary of trained models, using them to make predictions, scores those \n",
    "    predictions on MAE, MSE & RMSE, and generates DataFrames of the scores and model predictions respectively\n",
    "    \n",
    "    X: DataFrame containing the explanatory variables\n",
    "    \n",
    "    y: Target variable\n",
    "    \n",
    "    reg_dict: Dictionary of trained/fitted models\n",
    "    '''\n",
    "    \n",
    "    test1_scores = []\n",
    "    test2_scores = []\n",
    "    \n",
    "    df_pred = pd.DataFrame(columns=reg_dict.keys()) # Columns of DF will accord with reg_dict keys\n",
    "    \n",
    "    # Loop through Dictionary items\n",
    "    for key, reg in reg_dict.items():\n",
    "        \n",
    "        pred_y = reg.predict(X)\n",
    "        df_pred[key] = pd.Series(pred_y).transpose()\n",
    "        \n",
    "        # Computing test scores for each model\n",
    "        test1_scores.append(round(mean_absolute_error(y, pred_y), 4))\n",
    "        test2_scores.append(round(mean_squared_error(y, pred_y, squared=False), 4))\n",
    "        \n",
    "    # Generate results DataFrame\n",
    "    results = pd.DataFrame({'Model': list(reg_dict.keys()), \n",
    "                            'Mean Absolute Error': test1_scores,\n",
    "                            'Root Mean Squared Error': test2_scores\n",
    "                            })\n",
    "    \n",
    "    # Add target variable to the DataFrame of predictions\n",
    "    df_pred['Target'] = y.tolist()\n",
    "    \n",
    "    return results, df_pred\n"
   ]
  },
  {
   "cell_type": "code",
   "execution_count": 58,
   "id": "4ea16c26",
   "metadata": {},
   "outputs": [],
   "source": [
    "# Dictionary of TRAINED models\n",
    "reg_dict = {\n",
    "    'Lasso Regression': rs_las,\n",
    "    'Ridge Regression': rs_rdg,\n",
    "    'Random Forest': rs_rf,\n",
    "    'Xtreme Gradient Boost': rs_xgb,\n",
    "    'Support Vector Machine': rs_svm,\n",
    "    'Multi-Layer Perceptron': rs_mlp\n",
    "}"
   ]
  },
  {
   "cell_type": "code",
   "execution_count": 59,
   "id": "700c41df",
   "metadata": {},
   "outputs": [],
   "source": [
    "scores_dum, df_pred_dum = reg_scoring(X_dumt, y_dumt, reg_dict)"
   ]
  },
  {
   "cell_type": "markdown",
   "id": "21be4108",
   "metadata": {},
   "source": [
    "# Refit on Numerical Seasonality Data & Scoring"
   ]
  },
  {
   "cell_type": "code",
   "execution_count": 60,
   "id": "b0725bb4",
   "metadata": {},
   "outputs": [
    {
     "name": "stdout",
     "output_type": "stream",
     "text": [
      "Fitting 3 folds for each of 10 candidates, totalling 30 fits\n"
     ]
    },
    {
     "data": {
      "text/plain": [
       "RandomizedSearchCV(cv=TimeSeriesSplit(gap=0, max_train_size=None, n_splits=3, test_size=None),\n",
       "                   estimator=Lasso(random_state=11), n_jobs=-1,\n",
       "                   param_distributions={'alpha': <scipy.stats._distn_infrastructure.rv_frozen object at 0x0000020B3948A1F0>,\n",
       "                                        'fit_intercept': [1, 0]},\n",
       "                   scoring='neg_mean_squared_error', verbose=1)"
      ]
     },
     "execution_count": 60,
     "metadata": {},
     "output_type": "execute_result"
    }
   ],
   "source": [
    "rs_las.fit(X_num, y_num)"
   ]
  },
  {
   "cell_type": "code",
   "execution_count": 61,
   "id": "89911639",
   "metadata": {},
   "outputs": [
    {
     "name": "stdout",
     "output_type": "stream",
     "text": [
      "Fitting 3 folds for each of 10 candidates, totalling 30 fits\n"
     ]
    },
    {
     "data": {
      "text/plain": [
       "RandomizedSearchCV(cv=TimeSeriesSplit(gap=0, max_train_size=None, n_splits=3, test_size=None),\n",
       "                   estimator=Ridge(random_state=11), n_jobs=-1,\n",
       "                   param_distributions={'alpha': <scipy.stats._distn_infrastructure.rv_frozen object at 0x0000020B394AD790>,\n",
       "                                        'fit_intercept': [1, 0],\n",
       "                                        'solver': ['lsqr', 'sag', 'cholesky']},\n",
       "                   scoring='neg_mean_squared_error', verbose=1)"
      ]
     },
     "execution_count": 61,
     "metadata": {},
     "output_type": "execute_result"
    }
   ],
   "source": [
    "rs_rdg.fit(X_num, y_num)"
   ]
  },
  {
   "cell_type": "code",
   "execution_count": 62,
   "id": "5499433a",
   "metadata": {},
   "outputs": [
    {
     "name": "stdout",
     "output_type": "stream",
     "text": [
      "Fitting 3 folds for each of 10 candidates, totalling 30 fits\n"
     ]
    },
    {
     "data": {
      "text/plain": [
       "RandomizedSearchCV(cv=TimeSeriesSplit(gap=0, max_train_size=None, n_splits=3, test_size=None),\n",
       "                   estimator=RandomForestRegressor(random_state=11), n_jobs=-1,\n",
       "                   param_distributions={'max_features': ['auto', 'log2',\n",
       "                                                         'sqrt'],\n",
       "                                        'min_samples_split': <scipy.stats._distn_infrastructure.rv_frozen object at 0x0000020B39491D60>,\n",
       "                                        'n_estimators': <scipy.stats._distn_infrastructure.rv_frozen object at 0x0000020B39214790>},\n",
       "                   scoring='neg_mean_squared_error', verbose=1)"
      ]
     },
     "execution_count": 62,
     "metadata": {},
     "output_type": "execute_result"
    }
   ],
   "source": [
    "rs_rf.fit(X_num, y_num)"
   ]
  },
  {
   "cell_type": "code",
   "execution_count": 63,
   "id": "dcd25e32",
   "metadata": {},
   "outputs": [
    {
     "name": "stdout",
     "output_type": "stream",
     "text": [
      "Fitting 3 folds for each of 10 candidates, totalling 30 fits\n"
     ]
    },
    {
     "data": {
      "text/plain": [
       "RandomizedSearchCV(cv=TimeSeriesSplit(gap=0, max_train_size=None, n_splits=3, test_size=None),\n",
       "                   estimator=XGBRegressor(base_score=None, booster=None,\n",
       "                                          colsample_bylevel=None,\n",
       "                                          colsample_bynode=None,\n",
       "                                          colsample_bytree=None, gamma=None,\n",
       "                                          gpu_id=None, importance_type='gain',\n",
       "                                          interaction_constraints=None,\n",
       "                                          learning_rate=None,\n",
       "                                          max_delta_step=None, max_depth=None,\n",
       "                                          min_child_w...\n",
       "                                          verbosity=None),\n",
       "                   n_jobs=-1,\n",
       "                   param_distributions={'eta': <scipy.stats._distn_infrastructure.rv_frozen object at 0x0000020B39423910>,\n",
       "                                        'gamma': <scipy.stats._distn_infrastructure.rv_frozen object at 0x0000020B39423D30>,\n",
       "                                        'n_estimators': <scipy.stats._distn_infrastructure.rv_frozen object at 0x0000020B394419D0>,\n",
       "                                        'subsample': [0.5, 0.7, 1]},\n",
       "                   scoring='neg_mean_squared_error', verbose=1)"
      ]
     },
     "execution_count": 63,
     "metadata": {},
     "output_type": "execute_result"
    }
   ],
   "source": [
    "rs_xgb.fit(X_num, y_num)"
   ]
  },
  {
   "cell_type": "code",
   "execution_count": 64,
   "id": "2956ee33",
   "metadata": {},
   "outputs": [
    {
     "name": "stdout",
     "output_type": "stream",
     "text": [
      "Fitting 3 folds for each of 10 candidates, totalling 30 fits\n"
     ]
    },
    {
     "data": {
      "text/plain": [
       "RandomizedSearchCV(cv=TimeSeriesSplit(gap=0, max_train_size=None, n_splits=3, test_size=None),\n",
       "                   estimator=SVR(), n_jobs=-1,\n",
       "                   param_distributions={'C': <scipy.stats._distn_infrastructure.rv_frozen object at 0x0000020B39438F40>,\n",
       "                                        'epsilon': <scipy.stats._distn_infrastructure.rv_frozen object at 0x0000020B3942E760>,\n",
       "                                        'gamma': ['scale', 'auto', 0.2],\n",
       "                                        'kernel': ['rbf', 'linear', 'poly']},\n",
       "                   scoring='neg_mean_squared_error', verbose=1)"
      ]
     },
     "execution_count": 64,
     "metadata": {},
     "output_type": "execute_result"
    }
   ],
   "source": [
    "rs_svm.fit(X_num, y_num)"
   ]
  },
  {
   "cell_type": "code",
   "execution_count": 65,
   "id": "d4d3c12a",
   "metadata": {},
   "outputs": [
    {
     "name": "stdout",
     "output_type": "stream",
     "text": [
      "Fitting 3 folds for each of 10 candidates, totalling 30 fits\n"
     ]
    },
    {
     "data": {
      "text/plain": [
       "RandomizedSearchCV(cv=TimeSeriesSplit(gap=0, max_train_size=None, n_splits=3, test_size=None),\n",
       "                   estimator=MLPRegressor(early_stopping=True, max_iter=10000,\n",
       "                                          random_state=11),\n",
       "                   n_jobs=-1,\n",
       "                   param_distributions={'activation': ['relu', 'tanh'],\n",
       "                                        'alpha': <scipy.stats._distn_infrastructure.rv_frozen object at 0x0000020B39454850>,\n",
       "                                        'hidden_layer_sizes': [(18,), (24,),\n",
       "                                                               (32,), (18, 10),\n",
       "                                                               (24, 10),\n",
       "                                                               (24, 18),\n",
       "                                                               (32, 10),\n",
       "                                                               (32, 18),\n",
       "                                                               (32, 24)],\n",
       "                                        'solver': ['lbfgs', 'adam']},\n",
       "                   scoring='neg_mean_squared_error', verbose=1)"
      ]
     },
     "execution_count": 65,
     "metadata": {},
     "output_type": "execute_result"
    }
   ],
   "source": [
    "rs_mlp.fit(X_num, y_num)"
   ]
  },
  {
   "cell_type": "markdown",
   "id": "36a9b68d",
   "metadata": {},
   "source": [
    "### Best parameters found"
   ]
  },
  {
   "cell_type": "code",
   "execution_count": 66,
   "id": "83a7490a",
   "metadata": {},
   "outputs": [
    {
     "data": {
      "text/plain": [
       "{'alpha': 0.03372347124849073, 'fit_intercept': 1}"
      ]
     },
     "execution_count": 66,
     "metadata": {},
     "output_type": "execute_result"
    }
   ],
   "source": [
    "rs_las.best_params_"
   ]
  },
  {
   "cell_type": "code",
   "execution_count": 67,
   "id": "1dbd6d96",
   "metadata": {},
   "outputs": [
    {
     "data": {
      "text/plain": [
       "{'alpha': 0.07173889899357089, 'fit_intercept': 1, 'solver': 'cholesky'}"
      ]
     },
     "execution_count": 67,
     "metadata": {},
     "output_type": "execute_result"
    }
   ],
   "source": [
    "rs_rdg.best_params_"
   ]
  },
  {
   "cell_type": "code",
   "execution_count": 68,
   "id": "350f506f",
   "metadata": {},
   "outputs": [
    {
     "data": {
      "text/plain": [
       "{'max_features': 'auto', 'min_samples_split': 8, 'n_estimators': 283}"
      ]
     },
     "execution_count": 68,
     "metadata": {},
     "output_type": "execute_result"
    }
   ],
   "source": [
    "rs_rf.best_params_"
   ]
  },
  {
   "cell_type": "code",
   "execution_count": 69,
   "id": "2e120ba4",
   "metadata": {},
   "outputs": [
    {
     "data": {
      "text/plain": [
       "{'eta': 0.05529035373470943, 'gamma': 88, 'n_estimators': 121, 'subsample': 1}"
      ]
     },
     "execution_count": 69,
     "metadata": {},
     "output_type": "execute_result"
    }
   ],
   "source": [
    "rs_xgb.best_params_"
   ]
  },
  {
   "cell_type": "code",
   "execution_count": 70,
   "id": "82e0f061",
   "metadata": {},
   "outputs": [
    {
     "data": {
      "text/plain": [
       "{'C': 2.4125397311304853,\n",
       " 'epsilon': 2.759305988743781,\n",
       " 'gamma': 'scale',\n",
       " 'kernel': 'linear'}"
      ]
     },
     "execution_count": 70,
     "metadata": {},
     "output_type": "execute_result"
    }
   ],
   "source": [
    "rs_svm.best_params_"
   ]
  },
  {
   "cell_type": "code",
   "execution_count": 71,
   "id": "a286c9fb",
   "metadata": {},
   "outputs": [
    {
     "data": {
      "text/plain": [
       "{'activation': 'relu',\n",
       " 'alpha': 1.2797064270567304,\n",
       " 'hidden_layer_sizes': (24,),\n",
       " 'solver': 'adam'}"
      ]
     },
     "execution_count": 71,
     "metadata": {},
     "output_type": "execute_result"
    }
   ],
   "source": [
    "rs_mlp.best_params_"
   ]
  },
  {
   "cell_type": "markdown",
   "id": "c60f2d00",
   "metadata": {},
   "source": [
    "# Cross-Validation & Scoring on Categorical Data"
   ]
  },
  {
   "cell_type": "code",
   "execution_count": 72,
   "id": "fcbceffb",
   "metadata": {},
   "outputs": [],
   "source": [
    "las_scores_num = cross_val_score(rs_las, X_num, y_num, cv = time_split, n_jobs=-1, \n",
    "                                 scoring = 'neg_mean_absolute_error')"
   ]
  },
  {
   "cell_type": "code",
   "execution_count": 73,
   "id": "4f88b5e8",
   "metadata": {},
   "outputs": [],
   "source": [
    "rdg_scores_num = cross_val_score(rs_rdg, X_num, y_num, cv = time_split, n_jobs=-1, \n",
    "                                 scoring = 'neg_mean_absolute_error')"
   ]
  },
  {
   "cell_type": "code",
   "execution_count": 74,
   "id": "2270f7a4",
   "metadata": {},
   "outputs": [],
   "source": [
    "rf_scores_num = cross_val_score(rs_rf, X_num, y_num, cv = time_split, n_jobs=-1, \n",
    "                                scoring = 'neg_mean_absolute_error')"
   ]
  },
  {
   "cell_type": "code",
   "execution_count": 75,
   "id": "5c699906",
   "metadata": {},
   "outputs": [
    {
     "name": "stdout",
     "output_type": "stream",
     "text": [
      "Fitting 3 folds for each of 10 candidates, totalling 30 fits\n",
      "Fitting 3 folds for each of 10 candidates, totalling 30 fits\n",
      "Fitting 3 folds for each of 10 candidates, totalling 30 fits\n"
     ]
    }
   ],
   "source": [
    "xgb_scores_num = cross_val_score(rs_xgb, X_num, y_num, cv = time_split, \n",
    "                                 scoring = 'neg_mean_absolute_error')"
   ]
  },
  {
   "cell_type": "code",
   "execution_count": 76,
   "id": "3dedddec",
   "metadata": {},
   "outputs": [],
   "source": [
    "svm_scores_num = cross_val_score(rs_svm, X_num, y_num, cv = time_split, n_jobs=-1, \n",
    "                                 scoring = 'neg_mean_absolute_error')"
   ]
  },
  {
   "cell_type": "code",
   "execution_count": 77,
   "id": "55fc3f32",
   "metadata": {},
   "outputs": [],
   "source": [
    "mlp_scores_num = cross_val_score(rs_mlp, X_num, y_num, cv = time_split, n_jobs=-1, \n",
    "                                 scoring = 'neg_mean_absolute_error')"
   ]
  },
  {
   "cell_type": "code",
   "execution_count": 78,
   "id": "ddc66aac",
   "metadata": {},
   "outputs": [],
   "source": [
    "cv_dict_num = {\n",
    "    'Lasso Regression': -np.round(las_scores_num.mean(), 4),\n",
    "    'Ridge Regression': -np.round(rdg_scores_num.mean(), 4),\n",
    "    'Random Forest': -np.round(rf_scores_num.mean(), 4),\n",
    "    'Xtreme Gradient Boost': -np.round(xgb_scores_num.mean(), 4),\n",
    "    'Support Vector Machine': -np.round(svm_scores_num.mean(), 4),\n",
    "    'Multi-Layer Perceptron': -np.round(mlp_scores_num.mean(), 4),\n",
    "}"
   ]
  },
  {
   "cell_type": "code",
   "execution_count": 79,
   "id": "c6784cbe",
   "metadata": {},
   "outputs": [],
   "source": [
    "df_cv_num = pd.DataFrame({'Model': cv_dict_num.keys(), 'Average MAE': cv_dict_num.values()})"
   ]
  },
  {
   "cell_type": "markdown",
   "id": "bd547a7d",
   "metadata": {},
   "source": [
    "### Scoring on test data"
   ]
  },
  {
   "cell_type": "code",
   "execution_count": 80,
   "id": "cd35559b",
   "metadata": {},
   "outputs": [],
   "source": [
    "scores_num, df_pred_num = reg_scoring(X_numt, y_numt, reg_dict)"
   ]
  },
  {
   "cell_type": "code",
   "execution_count": 81,
   "id": "a9fef002",
   "metadata": {},
   "outputs": [],
   "source": [
    "df_pred_dum['date'] = df_dumt.index\n",
    "df_pred_num['date'] = df_numt.index"
   ]
  },
  {
   "cell_type": "code",
   "execution_count": 82,
   "id": "ba60b2c0",
   "metadata": {},
   "outputs": [],
   "source": [
    "#df_pred_dum.to_csv(r'C:\\\\bj_pred_dum.csv', index=False)"
   ]
  },
  {
   "cell_type": "code",
   "execution_count": 83,
   "id": "0e77786b",
   "metadata": {},
   "outputs": [],
   "source": [
    "#df_pred_num.to_csv(r'C:\\\\bj_pred_num.csv', index=False)"
   ]
  },
  {
   "cell_type": "markdown",
   "id": "4fbf5085",
   "metadata": {},
   "source": [
    "# Comparative Scores"
   ]
  },
  {
   "cell_type": "markdown",
   "id": "2f28fb10",
   "metadata": {},
   "source": [
    "### Cross-validation scores"
   ]
  },
  {
   "cell_type": "code",
   "execution_count": 84,
   "id": "7a0ea6f4",
   "metadata": {},
   "outputs": [
    {
     "data": {
      "text/html": [
       "<div>\n",
       "<style scoped>\n",
       "    .dataframe tbody tr th:only-of-type {\n",
       "        vertical-align: middle;\n",
       "    }\n",
       "\n",
       "    .dataframe tbody tr th {\n",
       "        vertical-align: top;\n",
       "    }\n",
       "\n",
       "    .dataframe thead th {\n",
       "        text-align: right;\n",
       "    }\n",
       "</style>\n",
       "<table border=\"1\" class=\"dataframe\">\n",
       "  <thead>\n",
       "    <tr style=\"text-align: right;\">\n",
       "      <th></th>\n",
       "      <th>Model</th>\n",
       "      <th>Average MAE</th>\n",
       "    </tr>\n",
       "  </thead>\n",
       "  <tbody>\n",
       "    <tr>\n",
       "      <th>0</th>\n",
       "      <td>Lasso Regression</td>\n",
       "      <td>12.9330</td>\n",
       "    </tr>\n",
       "    <tr>\n",
       "      <th>1</th>\n",
       "      <td>Ridge Regression</td>\n",
       "      <td>13.0188</td>\n",
       "    </tr>\n",
       "    <tr>\n",
       "      <th>2</th>\n",
       "      <td>Random Forest</td>\n",
       "      <td>13.8700</td>\n",
       "    </tr>\n",
       "    <tr>\n",
       "      <th>3</th>\n",
       "      <td>Xtreme Gradient Boost</td>\n",
       "      <td>13.8072</td>\n",
       "    </tr>\n",
       "    <tr>\n",
       "      <th>4</th>\n",
       "      <td>Support Vector Machine</td>\n",
       "      <td>14.2932</td>\n",
       "    </tr>\n",
       "    <tr>\n",
       "      <th>5</th>\n",
       "      <td>Multi-Layer Perceptron</td>\n",
       "      <td>13.2002</td>\n",
       "    </tr>\n",
       "  </tbody>\n",
       "</table>\n",
       "</div>"
      ],
      "text/plain": [
       "                    Model  Average MAE\n",
       "0        Lasso Regression      12.9330\n",
       "1        Ridge Regression      13.0188\n",
       "2           Random Forest      13.8700\n",
       "3   Xtreme Gradient Boost      13.8072\n",
       "4  Support Vector Machine      14.2932\n",
       "5  Multi-Layer Perceptron      13.2002"
      ]
     },
     "execution_count": 84,
     "metadata": {},
     "output_type": "execute_result"
    }
   ],
   "source": [
    "df_cv_dum"
   ]
  },
  {
   "cell_type": "code",
   "execution_count": 85,
   "id": "40b80f41",
   "metadata": {},
   "outputs": [
    {
     "data": {
      "text/html": [
       "<div>\n",
       "<style scoped>\n",
       "    .dataframe tbody tr th:only-of-type {\n",
       "        vertical-align: middle;\n",
       "    }\n",
       "\n",
       "    .dataframe tbody tr th {\n",
       "        vertical-align: top;\n",
       "    }\n",
       "\n",
       "    .dataframe thead th {\n",
       "        text-align: right;\n",
       "    }\n",
       "</style>\n",
       "<table border=\"1\" class=\"dataframe\">\n",
       "  <thead>\n",
       "    <tr style=\"text-align: right;\">\n",
       "      <th></th>\n",
       "      <th>Model</th>\n",
       "      <th>Average MAE</th>\n",
       "    </tr>\n",
       "  </thead>\n",
       "  <tbody>\n",
       "    <tr>\n",
       "      <th>0</th>\n",
       "      <td>Lasso Regression</td>\n",
       "      <td>13.0710</td>\n",
       "    </tr>\n",
       "    <tr>\n",
       "      <th>1</th>\n",
       "      <td>Ridge Regression</td>\n",
       "      <td>12.9175</td>\n",
       "    </tr>\n",
       "    <tr>\n",
       "      <th>2</th>\n",
       "      <td>Random Forest</td>\n",
       "      <td>13.7069</td>\n",
       "    </tr>\n",
       "    <tr>\n",
       "      <th>3</th>\n",
       "      <td>Xtreme Gradient Boost</td>\n",
       "      <td>14.2799</td>\n",
       "    </tr>\n",
       "    <tr>\n",
       "      <th>4</th>\n",
       "      <td>Support Vector Machine</td>\n",
       "      <td>18.8394</td>\n",
       "    </tr>\n",
       "    <tr>\n",
       "      <th>5</th>\n",
       "      <td>Multi-Layer Perceptron</td>\n",
       "      <td>12.7820</td>\n",
       "    </tr>\n",
       "  </tbody>\n",
       "</table>\n",
       "</div>"
      ],
      "text/plain": [
       "                    Model  Average MAE\n",
       "0        Lasso Regression      13.0710\n",
       "1        Ridge Regression      12.9175\n",
       "2           Random Forest      13.7069\n",
       "3   Xtreme Gradient Boost      14.2799\n",
       "4  Support Vector Machine      18.8394\n",
       "5  Multi-Layer Perceptron      12.7820"
      ]
     },
     "execution_count": 85,
     "metadata": {},
     "output_type": "execute_result"
    }
   ],
   "source": [
    "df_cv_num"
   ]
  },
  {
   "cell_type": "markdown",
   "id": "ed0b46fd",
   "metadata": {},
   "source": [
    "### Test data scores"
   ]
  },
  {
   "cell_type": "code",
   "execution_count": 86,
   "id": "12fb2d83",
   "metadata": {},
   "outputs": [
    {
     "data": {
      "text/html": [
       "<div>\n",
       "<style scoped>\n",
       "    .dataframe tbody tr th:only-of-type {\n",
       "        vertical-align: middle;\n",
       "    }\n",
       "\n",
       "    .dataframe tbody tr th {\n",
       "        vertical-align: top;\n",
       "    }\n",
       "\n",
       "    .dataframe thead th {\n",
       "        text-align: right;\n",
       "    }\n",
       "</style>\n",
       "<table border=\"1\" class=\"dataframe\">\n",
       "  <thead>\n",
       "    <tr style=\"text-align: right;\">\n",
       "      <th></th>\n",
       "      <th>Model</th>\n",
       "      <th>Mean Absolute Error</th>\n",
       "      <th>Root Mean Squared Error</th>\n",
       "    </tr>\n",
       "  </thead>\n",
       "  <tbody>\n",
       "    <tr>\n",
       "      <th>0</th>\n",
       "      <td>Lasso Regression</td>\n",
       "      <td>12.9720</td>\n",
       "      <td>22.6608</td>\n",
       "    </tr>\n",
       "    <tr>\n",
       "      <th>1</th>\n",
       "      <td>Ridge Regression</td>\n",
       "      <td>12.1694</td>\n",
       "      <td>21.7987</td>\n",
       "    </tr>\n",
       "    <tr>\n",
       "      <th>2</th>\n",
       "      <td>Random Forest</td>\n",
       "      <td>12.6537</td>\n",
       "      <td>22.7154</td>\n",
       "    </tr>\n",
       "    <tr>\n",
       "      <th>3</th>\n",
       "      <td>Xtreme Gradient Boost</td>\n",
       "      <td>12.4125</td>\n",
       "      <td>22.5786</td>\n",
       "    </tr>\n",
       "    <tr>\n",
       "      <th>4</th>\n",
       "      <td>Support Vector Machine</td>\n",
       "      <td>11.7966</td>\n",
       "      <td>21.8209</td>\n",
       "    </tr>\n",
       "    <tr>\n",
       "      <th>5</th>\n",
       "      <td>Multi-Layer Perceptron</td>\n",
       "      <td>12.1988</td>\n",
       "      <td>21.9011</td>\n",
       "    </tr>\n",
       "  </tbody>\n",
       "</table>\n",
       "</div>"
      ],
      "text/plain": [
       "                    Model  Mean Absolute Error  Root Mean Squared Error\n",
       "0        Lasso Regression              12.9720                  22.6608\n",
       "1        Ridge Regression              12.1694                  21.7987\n",
       "2           Random Forest              12.6537                  22.7154\n",
       "3   Xtreme Gradient Boost              12.4125                  22.5786\n",
       "4  Support Vector Machine              11.7966                  21.8209\n",
       "5  Multi-Layer Perceptron              12.1988                  21.9011"
      ]
     },
     "execution_count": 86,
     "metadata": {},
     "output_type": "execute_result"
    }
   ],
   "source": [
    "scores_dum"
   ]
  },
  {
   "cell_type": "code",
   "execution_count": 87,
   "id": "7ce69b74",
   "metadata": {},
   "outputs": [
    {
     "data": {
      "text/html": [
       "<div>\n",
       "<style scoped>\n",
       "    .dataframe tbody tr th:only-of-type {\n",
       "        vertical-align: middle;\n",
       "    }\n",
       "\n",
       "    .dataframe tbody tr th {\n",
       "        vertical-align: top;\n",
       "    }\n",
       "\n",
       "    .dataframe thead th {\n",
       "        text-align: right;\n",
       "    }\n",
       "</style>\n",
       "<table border=\"1\" class=\"dataframe\">\n",
       "  <thead>\n",
       "    <tr style=\"text-align: right;\">\n",
       "      <th></th>\n",
       "      <th>Model</th>\n",
       "      <th>Mean Absolute Error</th>\n",
       "      <th>Root Mean Squared Error</th>\n",
       "    </tr>\n",
       "  </thead>\n",
       "  <tbody>\n",
       "    <tr>\n",
       "      <th>0</th>\n",
       "      <td>Lasso Regression</td>\n",
       "      <td>12.1246</td>\n",
       "      <td>21.8670</td>\n",
       "    </tr>\n",
       "    <tr>\n",
       "      <th>1</th>\n",
       "      <td>Ridge Regression</td>\n",
       "      <td>12.1074</td>\n",
       "      <td>21.8480</td>\n",
       "    </tr>\n",
       "    <tr>\n",
       "      <th>2</th>\n",
       "      <td>Random Forest</td>\n",
       "      <td>12.6120</td>\n",
       "      <td>22.5262</td>\n",
       "    </tr>\n",
       "    <tr>\n",
       "      <th>3</th>\n",
       "      <td>Xtreme Gradient Boost</td>\n",
       "      <td>11.8641</td>\n",
       "      <td>21.7519</td>\n",
       "    </tr>\n",
       "    <tr>\n",
       "      <th>4</th>\n",
       "      <td>Support Vector Machine</td>\n",
       "      <td>12.1071</td>\n",
       "      <td>21.9543</td>\n",
       "    </tr>\n",
       "    <tr>\n",
       "      <th>5</th>\n",
       "      <td>Multi-Layer Perceptron</td>\n",
       "      <td>12.1093</td>\n",
       "      <td>21.9595</td>\n",
       "    </tr>\n",
       "  </tbody>\n",
       "</table>\n",
       "</div>"
      ],
      "text/plain": [
       "                    Model  Mean Absolute Error  Root Mean Squared Error\n",
       "0        Lasso Regression              12.1246                  21.8670\n",
       "1        Ridge Regression              12.1074                  21.8480\n",
       "2           Random Forest              12.6120                  22.5262\n",
       "3   Xtreme Gradient Boost              11.8641                  21.7519\n",
       "4  Support Vector Machine              12.1071                  21.9543\n",
       "5  Multi-Layer Perceptron              12.1093                  21.9595"
      ]
     },
     "execution_count": 87,
     "metadata": {},
     "output_type": "execute_result"
    }
   ],
   "source": [
    "scores_num"
   ]
  },
  {
   "cell_type": "code",
   "execution_count": null,
   "id": "84069f4f",
   "metadata": {},
   "outputs": [],
   "source": []
  }
 ],
 "metadata": {
  "kernelspec": {
   "display_name": "Python 3 (ipykernel)",
   "language": "python",
   "name": "python3"
  },
  "language_info": {
   "codemirror_mode": {
    "name": "ipython",
    "version": 3
   },
   "file_extension": ".py",
   "mimetype": "text/x-python",
   "name": "python",
   "nbconvert_exporter": "python",
   "pygments_lexer": "ipython3",
   "version": "3.8.8"
  }
 },
 "nbformat": 4,
 "nbformat_minor": 5
}
